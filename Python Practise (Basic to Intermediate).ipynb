{
 "cells": [
  {
   "cell_type": "markdown",
   "id": "4fcaab0a",
   "metadata": {},
   "source": [
    "# Variables\n"
   ]
  },
  {
   "cell_type": "code",
   "execution_count": 1,
   "id": "cf0ce011",
   "metadata": {},
   "outputs": [
    {
     "name": "stdout",
     "output_type": "stream",
     "text": [
      "Apple Pinneapple\n"
     ]
    }
   ],
   "source": [
    "A = \"Apple\"\n",
    "b = \"Pinneapple\"\n",
    "print(A,b)"
   ]
  },
  {
   "cell_type": "markdown",
   "id": "5da28f2a",
   "metadata": {},
   "source": [
    "Note: Never use Keywords , Special Characters as variable names."
   ]
  },
  {
   "cell_type": "markdown",
   "id": "53787568",
   "metadata": {},
   "source": [
    "## Excercise - Variables"
   ]
  },
  {
   "cell_type": "code",
   "execution_count": 1,
   "id": "3d2815bf",
   "metadata": {},
   "outputs": [
    {
     "ename": "SyntaxError",
     "evalue": "invalid syntax (3431819271.py, line 4)",
     "output_type": "error",
     "traceback": [
      "\u001b[0;36m  Input \u001b[0;32mIn [1]\u001b[0;36m\u001b[0m\n\u001b[0;31m    break = 5\u001b[0m\n\u001b[0m          ^\u001b[0m\n\u001b[0;31mSyntaxError\u001b[0m\u001b[0;31m:\u001b[0m invalid syntax\n"
     ]
    }
   ],
   "source": [
    "#Create a variable called break and assign it a value 5. See what happens and find out the reason behind the behavior that you see.\n",
    "\n",
    "\n",
    "break = 5\n",
    "break"
   ]
  },
  {
   "cell_type": "raw",
   "id": "fe590938",
   "metadata": {},
   "source": [
    "# Reason for the above error is because \"Break\" is a keyword and keyword can't be used as an variable name."
   ]
  },
  {
   "cell_type": "code",
   "execution_count": 2,
   "id": "5709242c",
   "metadata": {},
   "outputs": [
    {
     "data": {
      "text/plain": [
       "25"
      ]
     },
     "execution_count": 2,
     "metadata": {},
     "output_type": "execute_result"
    }
   ],
   "source": [
    "#Create two variables. One to store your birth year and another one to store current year. Now calculate your age using these two variables\n",
    "curr_yr = 2023\n",
    "birth_yr = 1998\n",
    "age = curr_yr - birth_yr\n",
    "age\n"
   ]
  },
  {
   "cell_type": "code",
   "execution_count": 6,
   "id": "c316d812",
   "metadata": {},
   "outputs": [
    {
     "data": {
      "text/plain": [
       "'Samoyed kash Dale'"
      ]
     },
     "execution_count": 6,
     "metadata": {},
     "output_type": "execute_result"
    }
   ],
   "source": [
    "#Store your first, middle and last name in three different variables and then print your full name using these variables\n",
    "first_name = 'Samoyed' \n",
    "mid_name =  'kash'\n",
    "last_name = 'Dale'\n",
    "full_name = first_name+\" \"+mid_name+\" \"+last_name\n",
    "full_name"
   ]
  },
  {
   "cell_type": "raw",
   "id": "9addd17c",
   "metadata": {},
   "source": [
    "#Answer which of these are invalid variable names: _nation 1record record1 record_one record-one record^one continue\n",
    "\n",
    "#Answer : Continue is the invalid variable name as it one of the keyword in python which is used to end the current iteration and continue with the next loop or conditions.\n"
   ]
  },
  {
   "cell_type": "markdown",
   "id": "62410ee1",
   "metadata": {},
   "source": [
    "# Numbers in Python"
   ]
  },
  {
   "cell_type": "code",
   "execution_count": 84,
   "id": "427274ae",
   "metadata": {},
   "outputs": [],
   "source": [
    "#Simple Calculator Program\n",
    "def calc():\n",
    "    while True:\n",
    "        print(\"Select Operations to perform:\\n 1. Add \\n 2. Subtract \\n 3. Divide \\n 4. Multiplication\")\n",
    "        loop = input(\"Select Operations or Hit enter to Exit: \")\n",
    "        \n",
    "        if not loop:\n",
    "            print(\"Exit\")\n",
    "            break\n",
    "        elif loop == \"1\":\n",
    "            n1 = int(input(\"Enter Num 1: \"))\n",
    "            n2 = int(input(\"Enter Num 2: \"))\n",
    "            print(n1+n2)\n",
    "        elif loop == \"2\":\n",
    "            n1 = int(input(\"Enter Num 1: \"))\n",
    "            n2 = int(input(\"Enter Num 2: \"))\n",
    "            print(n1-n2)\n",
    "        elif loop == \"3\":\n",
    "            n1 = int(input(\"Enter Num 1: \"))\n",
    "            n2 = int(input(\"Enter Num 2: \"))\n",
    "            print(n1/n2)\n",
    "        else:\n",
    "            n1 = int(input(\"Enter Num 1: \"))\n",
    "            n2 = int(input(\"Enter Num 2: \"))\n",
    "            print(n1*n2)\n",
    "        \n",
    "    \n",
    "    "
   ]
  },
  {
   "cell_type": "code",
   "execution_count": 85,
   "id": "786ca9d1",
   "metadata": {},
   "outputs": [
    {
     "name": "stdout",
     "output_type": "stream",
     "text": [
      "Select Operations to perform:\n",
      " 1. Add \n",
      " 2. Subtract \n",
      " 3. Divide \n",
      " 4. Multiplication\n",
      "Select Operations or Hit enter to Exit: 4\n",
      "Enter Num 1: 20\n",
      "Enter Num 2: 20\n",
      "400\n",
      "Select Operations to perform:\n",
      " 1. Add \n",
      " 2. Subtract \n",
      " 3. Divide \n",
      " 4. Multiplication\n",
      "Select Operations or Hit enter to Exit: 1\n",
      "Enter Num 1: 1\n",
      "Enter Num 2: 1\n",
      "2\n",
      "Select Operations to perform:\n",
      " 1. Add \n",
      " 2. Subtract \n",
      " 3. Divide \n",
      " 4. Multiplication\n",
      "Select Operations or Hit enter to Exit: 2\n",
      "Enter Num 1: 20\n",
      "Enter Num 2: 22\n",
      "-2\n",
      "Select Operations to perform:\n",
      " 1. Add \n",
      " 2. Subtract \n",
      " 3. Divide \n",
      " 4. Multiplication\n",
      "Select Operations or Hit enter to Exit: \n",
      "Exit\n"
     ]
    }
   ],
   "source": [
    "calc()"
   ]
  },
  {
   "cell_type": "markdown",
   "id": "5796cc3c",
   "metadata": {},
   "source": [
    "## Exercise : Numbers in python"
   ]
  },
  {
   "cell_type": "code",
   "execution_count": 8,
   "id": "e133950e",
   "metadata": {},
   "outputs": [
    {
     "data": {
      "text/plain": [
       "4489.6"
      ]
     },
     "execution_count": 8,
     "metadata": {},
     "output_type": "execute_result"
    }
   ],
   "source": [
    "# You have a football field that is 92 meter long and 48.8 meter wide. Find out total area using python and print it.\n",
    "\n",
    "length = 92\n",
    "width = 48.8\n",
    "area = length*width\n",
    "round(area,2)"
   ]
  },
  {
   "cell_type": "code",
   "execution_count": 10,
   "id": "41204625",
   "metadata": {},
   "outputs": [
    {
     "data": {
      "text/plain": [
       "6.59"
      ]
     },
     "execution_count": 10,
     "metadata": {},
     "output_type": "execute_result"
    }
   ],
   "source": [
    "# You bought 9 packets of potato chips from a store. Each packet costs 1.49 dollar and you gave shopkeeper 20 dollar. Find out using python, how many dollars is the shopkeeper going to give you back?\n",
    "\n",
    "chips = 9\n",
    "cost_chips = 1.49\n",
    "cash_out = 20\n",
    "\n",
    "remainder = cash_out - (chips * cost_chips)\n",
    "\n",
    "remainder"
   ]
  },
  {
   "cell_type": "code",
   "execution_count": 11,
   "id": "db3c4a29",
   "metadata": {},
   "outputs": [
    {
     "name": "stdout",
     "output_type": "stream",
     "text": [
      "total cost for bathroom tiles replacement: 15125.0\n"
     ]
    }
   ],
   "source": [
    "# You want to replace tiles in your bathroom which is exactly square and 5.5 feet is its length. If tiles cost 500 rs per square feet, how much will be the total cost to replace all tiles. Calculate and print the cost using python (Hint: Use power operator ** to find area of a square)\n",
    "\n",
    "length=5.5\n",
    "area=length**2 # area of square is length power 2\n",
    "cost=area*500\n",
    "print(\"total cost for bathroom tiles replacement:\",cost)"
   ]
  },
  {
   "cell_type": "code",
   "execution_count": 22,
   "id": "6d94c58a",
   "metadata": {},
   "outputs": [
    {
     "name": "stdout",
     "output_type": "stream",
     "text": [
      "Binary Num of 17 is 10001\n"
     ]
    }
   ],
   "source": [
    "# Print binary representation of number 17\n",
    "\n",
    "N = 17\n",
    "print(\"Binary Num of 17 is\",format(N,'b'))\n"
   ]
  },
  {
   "cell_type": "code",
   "execution_count": null,
   "id": "d3f3a0f4",
   "metadata": {},
   "outputs": [],
   "source": []
  },
  {
   "cell_type": "markdown",
   "id": "50735322",
   "metadata": {},
   "source": [
    "# Strings"
   ]
  },
  {
   "cell_type": "code",
   "execution_count": 29,
   "id": "30b5da54",
   "metadata": {},
   "outputs": [
    {
     "data": {
      "text/plain": [
       "'Ice Cream'"
      ]
     },
     "execution_count": 29,
     "metadata": {},
     "output_type": "execute_result"
    }
   ],
   "source": [
    "text = \"Ice Cream\"\n",
    "text"
   ]
  },
  {
   "cell_type": "code",
   "execution_count": 39,
   "id": "2b2ae478",
   "metadata": {},
   "outputs": [
    {
     "name": "stdout",
     "output_type": "stream",
     "text": [
      "I 0\n",
      "c 1\n",
      "e 2\n",
      "  3\n",
      "C 4\n",
      "r 5\n",
      "e 6\n",
      "a 7\n",
      "m 8\n",
      "Or access char like this : c\n"
     ]
    }
   ],
   "source": [
    "#Understanding String's Index \n",
    "for k,v in enumerate(text):\n",
    "    \n",
    "    print(v,k)\n",
    "print(\"Or access char like this :\",text[1])"
   ]
  },
  {
   "cell_type": "code",
   "execution_count": 40,
   "id": "6e0d705b",
   "metadata": {},
   "outputs": [
    {
     "data": {
      "text/plain": [
       "'Ice'"
      ]
     },
     "execution_count": 40,
     "metadata": {},
     "output_type": "execute_result"
    }
   ],
   "source": [
    "# To get \"Ice\" char from whole text\n",
    "text[0:3]"
   ]
  },
  {
   "cell_type": "code",
   "execution_count": 42,
   "id": "dc1b9edc",
   "metadata": {},
   "outputs": [
    {
     "name": "stdout",
     "output_type": "stream",
     "text": [
      "Cream\n",
      "Cream\n",
      "Ice\n"
     ]
    }
   ],
   "source": [
    "#End Char\n",
    "print(text[4:9])\n",
    "print(text[4:])\n",
    "\n",
    "# Starting Char\n",
    "print(text[:3])"
   ]
  },
  {
   "cell_type": "markdown",
   "id": "22b28297",
   "metadata": {},
   "source": [
    "## Excercise : Strings"
   ]
  },
  {
   "cell_type": "code",
   "execution_count": 12,
   "id": "112c1b16",
   "metadata": {},
   "outputs": [
    {
     "name": "stdout",
     "output_type": "stream",
     "text": [
      "Using + Operator: Parkland\n",
      "Mumbai\n",
      "India\n",
      "\n",
      "Using f_String: Parkland\n",
      "Mumbai\n",
      "India\n"
     ]
    }
   ],
   "source": [
    "#Create 3 variables to store street, city and country, now create address variable to store entire address. Use two ways of creating this variable, one using + operator and the other using f-string. Now Print the address in such a way that the street, city and country prints in a separate line\n",
    "\n",
    "\n",
    "street = 'Parkland'\n",
    "city = \"Mumbai\"\n",
    "country = 'India'\n",
    "full_addr = street+\"\\n\"+city+\"\\n\"+country\n",
    "print(\"Using + Operator:\",full_addr)\n",
    "print(f'\\nUsing f_String: {street}\\n{city}\\n{country}')"
   ]
  },
  {
   "cell_type": "code",
   "execution_count": 31,
   "id": "e5f8996c",
   "metadata": {
    "scrolled": true
   },
   "outputs": [
    {
     "name": "stdout",
     "output_type": "stream",
     "text": [
      "E = 0 a = 1 r = 2 t = 3 h = 4   = 5 r = 6 e = 7 v = 8 o = 9 l = 10 v = 11 e = 12 s = 13   = 14 a = 15 r = 16 o = 17 u = 18 n = 19 d = 20   = 21 t = 22 h = 23 e = 24   = 25 s = 26 u = 27 n = 28 \n",
      " revolves\n",
      "sun\n"
     ]
    }
   ],
   "source": [
    "\"\"\"\n",
    "Create a variable to store the string \"Earth revolves around the sun\"\n",
    "\n",
    "    Print \"revolves\" using slice operator\n",
    "    Print \"sun\" using negative index\n",
    "\n",
    "\n",
    "\"\"\"\n",
    "\n",
    "sentence = \"Earth revolves around the sun\"\n",
    "for k,v in enumerate(sentence):\n",
    "    print(v,\"=\",k,end=' ')\n",
    "    \n",
    "print(\"\\n\",sentence[6:14])\n",
    "print(sentence[-3:])"
   ]
  },
  {
   "cell_type": "code",
   "execution_count": 32,
   "id": "6a3224eb",
   "metadata": {},
   "outputs": [
    {
     "name": "stdout",
     "output_type": "stream",
     "text": [
      "I eat 10 veggies and 2 fruits daily.\n"
     ]
    }
   ],
   "source": [
    "\"\"\"\n",
    "Create two variables to store how many fruits and vegetables you eat in a day. \n",
    "Now Print \"I eat x veggies and y fruits daily\" where x and y presents vegetables and fruits that you eat everyday. \n",
    "Use python f string for this.\n",
    "\n",
    "\"\"\"\n",
    "veggies = 10\n",
    "fruits = 2\n",
    "print(f'I eat {veggies} veggies and {fruits} fruits daily.')\n"
   ]
  },
  {
   "cell_type": "code",
   "execution_count": 33,
   "id": "a707cea1",
   "metadata": {},
   "outputs": [
    {
     "name": "stdout",
     "output_type": "stream",
     "text": [
      "maine 200 banana khaye\n",
      "maine 10 samosa khaye\n"
     ]
    }
   ],
   "source": [
    "\"\"\"\n",
    "I have a string variable called s='maine 200 banana khaye'. \n",
    "This of course is a wrong statement, the correct statement is 'maine 10 samosa khaye'. \n",
    "Replace incorrect words in original strong with new ones and print the new string. \n",
    "Also try to do this in one line.\n",
    "\n",
    "\"\"\"\n",
    "s = 'maine 200 banana khaye'\n",
    "print(s)\n",
    "s = s.replace('banana','samosa').replace('200','10')\n",
    "print(s)\n",
    "\n",
    "\n",
    "\n"
   ]
  },
  {
   "cell_type": "markdown",
   "id": "61c93090",
   "metadata": {},
   "source": [
    "# Lists\n"
   ]
  },
  {
   "cell_type": "code",
   "execution_count": 61,
   "id": "c09a8b37",
   "metadata": {},
   "outputs": [],
   "source": [
    "#List Starts with 0 index\n",
    "lst = []\n",
    "for i in ('bread','jam','Peanut butter'):\n",
    "    lst.append(i)"
   ]
  },
  {
   "cell_type": "code",
   "execution_count": 62,
   "id": "2c0b18c5",
   "metadata": {},
   "outputs": [
    {
     "data": {
      "text/plain": [
       "['bread', 'jam', 'Peanut butter']"
      ]
     },
     "execution_count": 62,
     "metadata": {},
     "output_type": "execute_result"
    }
   ],
   "source": [
    "lst"
   ]
  },
  {
   "cell_type": "code",
   "execution_count": 63,
   "id": "28dfb399",
   "metadata": {},
   "outputs": [
    {
     "name": "stdout",
     "output_type": "stream",
     "text": [
      "bread\n",
      "jam\n",
      "Peanut butter\n",
      "Peanut butter\n"
     ]
    }
   ],
   "source": [
    "print(lst[0])\n",
    "print(lst[1])\n",
    "print(lst[2])\n",
    "print(lst[-1])"
   ]
  },
  {
   "cell_type": "code",
   "execution_count": 64,
   "id": "e85ab497",
   "metadata": {},
   "outputs": [
    {
     "data": {
      "text/plain": [
       "['Chips', 'jam', 'Peanut butter']"
      ]
     },
     "execution_count": 64,
     "metadata": {},
     "output_type": "execute_result"
    }
   ],
   "source": [
    "lst[0]= \"Chips\"\n",
    "lst"
   ]
  },
  {
   "cell_type": "code",
   "execution_count": 65,
   "id": "114beb36",
   "metadata": {},
   "outputs": [
    {
     "data": {
      "text/plain": [
       "['Chips', 'jam', 'Peanut butter', 'Butter']"
      ]
     },
     "execution_count": 65,
     "metadata": {},
     "output_type": "execute_result"
    }
   ],
   "source": [
    "lst.append(\"Butter\")\n",
    "lst"
   ]
  },
  {
   "cell_type": "code",
   "execution_count": 66,
   "id": "fdbbb55a",
   "metadata": {},
   "outputs": [
    {
     "data": {
      "text/plain": [
       "['Chips', 'Choco', 'jam', 'Peanut butter', 'Butter']"
      ]
     },
     "execution_count": 66,
     "metadata": {},
     "output_type": "execute_result"
    }
   ],
   "source": [
    "lst.insert(1,\"Choco\")\n",
    "lst"
   ]
  },
  {
   "cell_type": "code",
   "execution_count": 70,
   "id": "9f32436d",
   "metadata": {},
   "outputs": [
    {
     "data": {
      "text/plain": [
       "True"
      ]
     },
     "execution_count": 70,
     "metadata": {},
     "output_type": "execute_result"
    }
   ],
   "source": [
    "#Lookup in list\n",
    "\"Choco\" in lst"
   ]
  },
  {
   "cell_type": "code",
   "execution_count": 69,
   "id": "f5af62d3",
   "metadata": {},
   "outputs": [
    {
     "data": {
      "text/plain": [
       "['Chips', 'Choco', 'jam', 'Peanut butter', 'Butter', 'Soap']"
      ]
     },
     "execution_count": 69,
     "metadata": {},
     "output_type": "execute_result"
    }
   ],
   "source": [
    "lst2 = [\"Soap\"]\n",
    "lst+lst2"
   ]
  },
  {
   "cell_type": "markdown",
   "id": "6959ce12",
   "metadata": {},
   "source": [
    "## Exercise : List"
   ]
  },
  {
   "cell_type": "code",
   "execution_count": 60,
   "id": "dc9c7bb3",
   "metadata": {},
   "outputs": [
    {
     "name": "stdout",
     "output_type": "stream",
     "text": [
      "1. 150\n",
      "2. 7150\n",
      "3. Did I spend 2000$ in any month: False\n",
      "4. June Month expense:  1980\n",
      "5. April Expense update:  1930\n"
     ]
    }
   ],
   "source": [
    "\"\"\"\n",
    "Let us say your expense for every month are listed below,\n",
    "        January - 2200\n",
    "        February - 2350\n",
    "        March - 2600\n",
    "        April - 2130\n",
    "        May - 2190\n",
    "\n",
    "Create a list to store these monthly expenses and using that find out,\n",
    "\n",
    "1. In Feb, how many dollars you spent extra compare to January?\n",
    "2. Find out your total expense in first quarter (first three months) of the year.\n",
    "3. Find out if you spent exactly 2000 dollars in any month\n",
    "4. June month just finished and your expense is 1980 dollar. Add this item to our monthly expense list\n",
    "5. You returned an item that you bought in a month of April and\n",
    "got a refund of 200$. Make a correction to your monthly expense list\n",
    "based on this\n",
    "\n",
    "\n",
    "\"\"\"\n",
    "expense = [2200,2350,2600,2130,2190]\n",
    "print(\"1. {}\".format(expense[1]-expense[0]))\n",
    "total = 0\n",
    "for i in range(3):\n",
    "    total += expense[i] \n",
    "print(\"2. {}\".format(total))\n",
    "print(\"3. Did I spend 2000$ in any month:\",2000 in expense)\n",
    "expense.append(1980)\n",
    "print(\"4. June Month expense: \",expense[-1])\n",
    "expense[3] = expense[3]-200\n",
    "print(\"5. April Expense update: \",expense[3])\n"
   ]
  },
  {
   "cell_type": "code",
   "execution_count": 76,
   "id": "2b3c6a22",
   "metadata": {},
   "outputs": [
    {
     "name": "stdout",
     "output_type": "stream",
     "text": [
      "1. Length of list :  5\n",
      "2. Updated item in current list:  black panther\n",
      "3. black panther\n",
      "4. ['spider man', 'doctor strange', 'black panther', 'iron man', 'captain america']\n",
      "5. ['black panther', 'captain america', 'doctor strange', 'iron man', 'spider man']\n"
     ]
    }
   ],
   "source": [
    "\"\"\"\n",
    "\n",
    "You have a list of your favourite marvel super heros.\n",
    "\n",
    "heros=['spider man','thor','hulk','iron man','captain america']\n",
    "\n",
    "Using this find out,\n",
    "\n",
    "1. Length of the list\n",
    "2. Add 'black panther' at the end of this list\n",
    "3. You realize that you need to add 'black panther' after 'hulk',\n",
    "   so remove it from the list first and then add it after 'hulk'\n",
    "4. Now you don't like thor and hulk because they get angry easily :)\n",
    "   So you want to remove thor and hulk from list and replace them with doctor strange (because he is cool).\n",
    "   Do that with one line of code.\n",
    "5. Sort the heros list in alphabetical order (Hint. Use dir() functions to list down all functions available in list)\n",
    "\n",
    "\n",
    "\"\"\"\n",
    "\n",
    "heros=['spider man','thor','hulk','iron man','captain america']\n",
    "print(\"1. Length of list : \",len(heros))\n",
    "\n",
    "heros.append('black panther')\n",
    "print(\"2. Updated item in current list: \",heros[-1])\n",
    "\n",
    "heros.remove('black panther')\n",
    "heros.insert(3,'black panther')\n",
    "print(\"3.\",heros[3])\n",
    "\n",
    "heros[1:3] = ['doctor strange']\n",
    "print(\"4.\",heros)\n",
    "\n",
    "heros.sort()\n",
    "print(\"5.\",heros)\n",
    "\n"
   ]
  },
  {
   "cell_type": "markdown",
   "id": "42591fa0",
   "metadata": {},
   "source": [
    "# Conditional Statements"
   ]
  },
  {
   "cell_type": "code",
   "execution_count": 74,
   "id": "fdc65f8f",
   "metadata": {},
   "outputs": [
    {
     "name": "stdout",
     "output_type": "stream",
     "text": [
      "Enter Num: 2\n",
      "2 is even number\n",
      "Enter Num: 3\n",
      "3 is odd number\n",
      "Enter Num: 1\n",
      "1 is odd number\n",
      "Enter Num: 4\n",
      "4 is even number\n",
      "Enter Num: \n"
     ]
    }
   ],
   "source": [
    "#Write a program to check if the number is even or odd\n",
    "\n",
    "while True:\n",
    "    try :\n",
    "        Num = int(input(\"Enter Num: \"))  \n",
    "        if Num %2==0:\n",
    "            print(\"{} is even number\".format(Num))\n",
    "        else:\n",
    "            print(\"{} is odd number\".format(Num))\n",
    "    except:\n",
    "        break"
   ]
  },
  {
   "cell_type": "code",
   "execution_count": 87,
   "id": "a1a30cf1",
   "metadata": {},
   "outputs": [
    {
     "name": "stdout",
     "output_type": "stream",
     "text": [
      "Enter Dish :Dal\n",
      "Indian\n",
      "Enter Dish :\n"
     ]
    }
   ],
   "source": [
    "# Check input dish name category\n",
    "Indian = ['Dal','Paneer Masala','Khichdi']\n",
    "Chinese = ['Fried Rice','Manchurian']\n",
    "Italian = ['Pasta','Pizza']\n",
    "\n",
    "while True:\n",
    "    dish = input(\"Enter Dish :\")\n",
    "    if dish in Indian:\n",
    "        print(\"Indian\")\n",
    "    elif dish in Chinese:\n",
    "        print(\"Chinese\")\n",
    "    elif dish in Italian:\n",
    "        print(\"Italian\")\n",
    "    else:\n",
    "        \n",
    "        break"
   ]
  },
  {
   "cell_type": "markdown",
   "id": "ad2a1088",
   "metadata": {},
   "source": [
    "## Excerise : If Statement"
   ]
  },
  {
   "cell_type": "code",
   "execution_count": 80,
   "id": "92f20f66",
   "metadata": {},
   "outputs": [
    {
     "name": "stdout",
     "output_type": "stream",
     "text": [
      "Enter City name : mumbai\n",
      "India\n",
      "Enter City name : karachi\n",
      "Pakistan\n",
      "Enter City name : rangpur\n",
      "Bangladesh\n",
      "Enter City name : vashi\n",
      "Please enter correct city name\n"
     ]
    }
   ],
   "source": [
    "\"\"\"\n",
    "Using following list of cities per country,\n",
    "\n",
    "india = [\"mumbai\", \"banglore\", \"chennai\", \"delhi\"]\n",
    "pakistan = [\"lahore\",\"karachi\",\"islamabad\"]\n",
    "bangladesh = [\"dhaka\", \"khulna\", \"rangpur\"]\n",
    "\n",
    "Write a program that asks user to enter a city name and it should tell which country the city belongs to\n",
    "Write a program that asks user to enter two cities and it tells you if they both are in same country or not. \n",
    "    For example if I enter mumbai and chennai, it will print \"Both cities are in India\" \n",
    "    but if I enter mumbai and dhaka it should print \"They don't belong to same country\"\n",
    "\n",
    "\n",
    "\"\"\"\n",
    "india = [\"mumbai\", \"banglore\", \"chennai\", \"delhi\"]\n",
    "pakistan = [\"lahore\",\"karachi\",\"islamabad\"]\n",
    "bangladesh = [\"dhaka\", \"khulna\", \"rangpur\"]\n",
    "\n",
    "\n",
    "while True:\n",
    "    user = input(\"Enter City name : \")\n",
    "    if user in india:\n",
    "        print(\"India\")\n",
    "\n",
    "    elif user in pakistan:\n",
    "        print(\"Pakistan\")\n",
    "\n",
    "    elif user in bangladesh:\n",
    "        print(\"Bangladesh\")\n",
    "\n",
    "    else:\n",
    "        print(\"Please enter correct city name\")\n",
    "        break\n",
    "    \n",
    "    \n",
    "\n",
    "\n"
   ]
  },
  {
   "cell_type": "code",
   "execution_count": 84,
   "id": "d269eebd",
   "metadata": {},
   "outputs": [
    {
     "name": "stdout",
     "output_type": "stream",
     "text": [
      "Enter City 1 name : mumbai\n",
      "Enter City 2 name : delhi\n",
      "Both cities are in India\n",
      "Enter City 1 name : delhi\n",
      "Enter City 2 name : karachi\n",
      "They are not in same Country\n"
     ]
    }
   ],
   "source": [
    "while True:\n",
    "    user1 = input(\"Enter City 1 name : \")\n",
    "    user2 = input(\"Enter City 2 name : \")\n",
    "    if user1 in india and user2 in india:\n",
    "        print(\"Both cities are in India\")\n",
    "\n",
    "    elif user1 in pakistan and user2 in pakistan:\n",
    "        print(\"Both cities are in Pakistan\")\n",
    "\n",
    "    elif user1 in bangladesh and user2 in bangladesh:\n",
    "        print(\"Both cities are in Bangladesh\")\n",
    "\n",
    "    else:\n",
    "        print(\"They are not in same Country\")\n",
    "        break"
   ]
  },
  {
   "cell_type": "code",
   "execution_count": 87,
   "id": "525c1fa1",
   "metadata": {},
   "outputs": [
    {
     "name": "stdout",
     "output_type": "stream",
     "text": [
      "Enter your sugar level :79\n",
      "Sugar is Low\n",
      "Enter your sugar level :101\n",
      "Sugar is High\n",
      "Enter your sugar level :81\n",
      "Normal\n"
     ]
    }
   ],
   "source": [
    "\"\"\"\n",
    "Write a python program that can tell you if your sugar is normal or not. \n",
    "Normal fasting level sugar range is 80 to 100.\n",
    "    Ask user to enter his fasting sugar level\n",
    "    If it is below 80 to 100 range then print that sugar is low\n",
    "    If it is above 100 then print that it is high otherwise print that it is normal\n",
    "\n",
    "\n",
    "\n",
    "\"\"\"\n",
    "while True:\n",
    "    user = int(input(\"Enter your sugar level :\"))\n",
    "    if (user<80):\n",
    "        print(\"Sugar is Low\")\n",
    "\n",
    "    elif (user>100):\n",
    "        print(\"Sugar is High\")\n",
    "\n",
    "    else:\n",
    "        print(\"Normal\")\n",
    "        break\n",
    "\n"
   ]
  },
  {
   "cell_type": "markdown",
   "id": "7b9cc619",
   "metadata": {},
   "source": [
    "# For Loop"
   ]
  },
  {
   "cell_type": "code",
   "execution_count": 99,
   "id": "d280c610",
   "metadata": {},
   "outputs": [
    {
     "name": "stdout",
     "output_type": "stream",
     "text": [
      "[2000, 3000, 4000, 4321, 2590]\n",
      "Total Expenses :  15911\n"
     ]
    }
   ],
   "source": [
    "#Store Monthly expenses in the list and get total expenses.\n",
    "lst = []\n",
    "total_exp = 0\n",
    "for i in (2000,3000,4000,4321,2590):\n",
    "    lst.append(i)\n",
    "print(lst)\n",
    "for k,v in enumerate(lst):\n",
    "    total_exp += lst[k]\n",
    "print(\"Total Expenses : \",total_exp)"
   ]
  },
  {
   "cell_type": "code",
   "execution_count": 103,
   "id": "6a2b423d",
   "metadata": {},
   "outputs": [
    {
     "name": "stdout",
     "output_type": "stream",
     "text": [
      "1 2 3 4 5 6 7 8 9 10 "
     ]
    }
   ],
   "source": [
    "#print 1 to 10 range:\n",
    "\n",
    "for i in range(1,10+1):\n",
    "    print(i,end=' ')"
   ]
  },
  {
   "cell_type": "code",
   "execution_count": 111,
   "id": "9dd3969f",
   "metadata": {},
   "outputs": [
    {
     "name": "stdout",
     "output_type": "stream",
     "text": [
      "Month :  1 Expenses :  2000\n",
      "Month :  2 Expenses :  3000\n",
      "Month :  3 Expenses :  4000\n",
      "Month :  4 Expenses :  4321\n",
      "Month :  5 Expenses :  2590\n",
      "\n",
      " Total Expenses :  15911\n"
     ]
    }
   ],
   "source": [
    "# Another way of getting total expenses\n",
    "total_exp = 0\n",
    "for i in range(len(lst)):\n",
    "    print(\"Month : \",i+1,\"Expenses : \",lst[i])\n",
    "    total_exp += lst[i]\n",
    "print(\"\\n Total Expenses : \",total_exp)"
   ]
  },
  {
   "cell_type": "code",
   "execution_count": 115,
   "id": "b284bda6",
   "metadata": {},
   "outputs": [
    {
     "name": "stdout",
     "output_type": "stream",
     "text": [
      "Key not found in location : Sofa\n",
      "Key not found in location : Closet\n",
      "Key not found in location : Desk\n",
      "key found in location : Chair\n"
     ]
    }
   ],
   "source": [
    "#Search for key and break when found in the location.\n",
    "\n",
    "key = 'Chair'\n",
    "location = ['Sofa','Closet','Desk','Chair','Kitchen','Room']\n",
    "for i in location:\n",
    "    if i==key:\n",
    "        print(\"key found in location : {}\".format(i))\n",
    "        break\n",
    "    else:\n",
    "        print(\"Key not found in location : {}\".format(i))"
   ]
  },
  {
   "cell_type": "code",
   "execution_count": 119,
   "id": "d510e260",
   "metadata": {},
   "outputs": [
    {
     "name": "stdout",
     "output_type": "stream",
     "text": [
      "1 = 1\n",
      "3 = 9\n",
      "5 = 25\n"
     ]
    }
   ],
   "source": [
    "#Print Square of numbers 1 to 5 except even Numbers.\n",
    "\n",
    "for i in range(1,6):\n",
    "    if i%2!= 0:\n",
    "        print(i,\"=\",i**2)"
   ]
  },
  {
   "cell_type": "code",
   "execution_count": 120,
   "id": "381c99fa",
   "metadata": {},
   "outputs": [
    {
     "name": "stdout",
     "output_type": "stream",
     "text": [
      "1 = 1\n",
      "3 = 9\n",
      "5 = 25\n"
     ]
    }
   ],
   "source": [
    "for i in range(1,6):\n",
    "    if i%2== 0:\n",
    "        continue\n",
    "    print(i,\"=\",i**2)"
   ]
  },
  {
   "cell_type": "code",
   "execution_count": 124,
   "id": "9447b910",
   "metadata": {},
   "outputs": [
    {
     "name": "stdout",
     "output_type": "stream",
     "text": [
      "0\n",
      "1\n",
      "2\n",
      "3\n",
      "4\n",
      "5\n"
     ]
    }
   ],
   "source": [
    "i = 0\n",
    "while i<=5:\n",
    "    print(i)\n",
    "    i = i+1"
   ]
  },
  {
   "cell_type": "markdown",
   "id": "d3abbd2c",
   "metadata": {},
   "source": [
    "## Exercise : For Loop"
   ]
  },
  {
   "cell_type": "code",
   "execution_count": 89,
   "id": "89e4bd94",
   "metadata": {},
   "outputs": [
    {
     "name": "stdout",
     "output_type": "stream",
     "text": [
      "4\n"
     ]
    }
   ],
   "source": [
    "\"\"\"\n",
    "\n",
    "After flipping a coin 10 times you got this result,\n",
    "\n",
    "result = [\"heads\",\"tails\",\"tails\",\"heads\",\"tails\",\"heads\",\"heads\",\"tails\",\"tails\",\"tails\"]\n",
    "\n",
    "Using for loop figure out how many times you got heads\n",
    "\n",
    "\"\"\"\n",
    "result = [\"heads\",\"tails\",\"tails\",\"heads\",\"tails\",\"heads\",\"heads\",\"tails\",\"tails\",\"tails\"]\n",
    "count = 0\n",
    "for i in result:\n",
    "    if i=='heads':\n",
    "        count+=1\n",
    "print(count)\n",
    "    \n",
    "    \n",
    "\n"
   ]
  },
  {
   "cell_type": "code",
   "execution_count": 91,
   "id": "c7622c25",
   "metadata": {},
   "outputs": [
    {
     "name": "stdout",
     "output_type": "stream",
     "text": [
      "1 = 1\n",
      "3 = 9\n",
      "5 = 25\n",
      "7 = 49\n",
      "9 = 81\n"
     ]
    }
   ],
   "source": [
    "#Print square of all numbers between 1 to 10 except even numbers\n",
    "\n",
    "for i in range(1,10+1):\n",
    "    if i%2==0:\n",
    "        continue\n",
    "    print(i,\"=\",i**2)"
   ]
  },
  {
   "cell_type": "code",
   "execution_count": 153,
   "id": "358fd0b6",
   "metadata": {},
   "outputs": [
    {
     "name": "stdout",
     "output_type": "stream",
     "text": [
      "Enter expense: 1234\n",
      "Expense is not present in the list\n"
     ]
    }
   ],
   "source": [
    "\n",
    "\"\"\"\n",
    "Your monthly expense list (from Jan to May) looks like this,\n",
    "\n",
    "expense_list = [2340, 2500, 2100, 3100, 2980]\n",
    "\n",
    "Write a program that asks you to enter an expense amount and program should tell you in which month that expense occurred. \n",
    "If expense is not found then it should print that as well.\n",
    "\n",
    "\"\"\"\n",
    "\n",
    "expense_list = [2340, 2500, 2100, 3100, 2980]\n",
    "month = ['Jan','Feb','Mar','Apr','May']\n",
    "user = int(input(\"Enter expense: \"))\n",
    "e = -1\n",
    "for k,v in enumerate(expense_list):    \n",
    "    if user==v:\n",
    "        e = k\n",
    "        break\n",
    "        \n",
    "if e!=-1:\n",
    "    print(month[e])\n",
    "\n",
    "else:\n",
    "    print(\"Expense is not present in the list\")\n",
    "       \n",
    "        \n",
    "        \n"
   ]
  },
  {
   "cell_type": "code",
   "execution_count": 133,
   "id": "bcffb2bd",
   "metadata": {},
   "outputs": [
    {
     "name": "stdout",
     "output_type": "stream",
     "text": [
      "Enter expense amount: 2100\n",
      "You spent 2100 in March\n"
     ]
    }
   ],
   "source": [
    "#Dhaval's Code\n",
    "month_list = [\"January\", \"February\", \"March\", \"April\", \"May\"]\n",
    "expense_list = [2340, 2500, 2100, 3100, 2980]\n",
    "e = input(\"Enter expense amount: \")\n",
    "e = int(e)\n",
    "\n",
    "month = -1\n",
    "for i in range(len(expense_list)):\n",
    "    if e == expense_list[i]:\n",
    "        month = i\n",
    "        break\n",
    "\n",
    "if month != -1:\n",
    "    print(f'You spent {e} in {month_list[month]}')\n",
    "else:\n",
    "    print(f'You didn\\'t spend {e} in any month')"
   ]
  },
  {
   "cell_type": "code",
   "execution_count": 136,
   "id": "96eb56e2",
   "metadata": {},
   "outputs": [
    {
     "name": "stdout",
     "output_type": "stream",
     "text": [
      "You ran 1 miles today\n",
      "Are you tired?no\n",
      "You ran 2 miles today\n",
      "Are you tired?no\n",
      "You ran 3 miles today\n",
      "Are you tired?no\n",
      "You ran 4 miles today\n",
      "Are you tired?mo\n",
      "You ran 5 miles today\n",
      "Are you tired?no\n",
      "Marathon over\n"
     ]
    }
   ],
   "source": [
    "\"\"\"\n",
    "Lets say you are running a 5 km race. Write a program that,\n",
    "\n",
    "    Upon completing each 1 km asks you \"are you tired?\"\n",
    "    If you reply \"yes\" then it should break and print \"you didn't finish the race\"\n",
    "    If you reply \"no\" then it should continue and ask \"are you tired\" on every km\n",
    "    If you finish all 5 km then it should print congratulations message\n",
    "\n",
    "\"\"\"\n",
    "\n",
    "for i in range(5):\n",
    "    print(f'You ran {i+1} miles today')\n",
    "    user = input(\"Are you tired?\")\n",
    "    if user == \"yes\":\n",
    "        print(\"Take rest\")\n",
    "        break\n",
    "if i == 4:\n",
    "    print(\"Marathon over\")\n",
    "else:\n",
    "    print(f'current miles status {i+1}')\n"
   ]
  },
  {
   "cell_type": "code",
   "execution_count": 140,
   "id": "e96f9b1e",
   "metadata": {},
   "outputs": [
    {
     "name": "stdout",
     "output_type": "stream",
     "text": [
      "Enter num: 4\n",
      "*\n",
      "**\n",
      "***\n",
      "****\n"
     ]
    }
   ],
   "source": [
    "\"\"\" Write a program that prints following shape\n",
    "*\n",
    "**\n",
    "***\n",
    "****\n",
    "*****\n",
    "\n",
    "\"\"\"\n",
    "n = int(input(\"Enter num: \"))\n",
    "for i in range(n):\n",
    "    s = ''\n",
    "    for j in range(i+1):\n",
    "        s = s+\"*\"\n",
    "    print(s)\n",
    "\n",
    "\n",
    "\n"
   ]
  },
  {
   "cell_type": "markdown",
   "id": "2b8e55be",
   "metadata": {},
   "source": [
    "# Dictionary"
   ]
  },
  {
   "cell_type": "raw",
   "id": "83e3bda8",
   "metadata": {},
   "source": [
    "Note : Dictionary stores in key-value pairs\n",
    "        It is also known as Hashtables, Maps, Associate Arrays"
   ]
  },
  {
   "cell_type": "code",
   "execution_count": 2,
   "id": "f4c67da5",
   "metadata": {},
   "outputs": [
    {
     "data": {
      "text/plain": [
       "{'tom': 123, 'Sam': 456, 'Dave': 789, 'test': 120}"
      ]
     },
     "execution_count": 2,
     "metadata": {},
     "output_type": "execute_result"
    }
   ],
   "source": [
    "d = {\"tom\":123,\"Sam\":456,\"Dave\":789,'test':120}\n",
    "d"
   ]
  },
  {
   "cell_type": "code",
   "execution_count": 3,
   "id": "d294e477",
   "metadata": {},
   "outputs": [
    {
     "data": {
      "text/plain": [
       "123"
      ]
     },
     "execution_count": 3,
     "metadata": {},
     "output_type": "execute_result"
    }
   ],
   "source": [
    "d['tom']"
   ]
  },
  {
   "cell_type": "code",
   "execution_count": 4,
   "id": "7a5b5308",
   "metadata": {},
   "outputs": [
    {
     "data": {
      "text/plain": [
       "{'tom': 123, 'Sam': 1001, 'Dave': 789, 'test': 120}"
      ]
     },
     "execution_count": 4,
     "metadata": {},
     "output_type": "execute_result"
    }
   ],
   "source": [
    "d['Sam']=1001\n",
    "d\n"
   ]
  },
  {
   "cell_type": "code",
   "execution_count": 5,
   "id": "dd6da1e0",
   "metadata": {},
   "outputs": [
    {
     "data": {
      "text/plain": [
       "{'tom': 123, 'Sam': 1001, 'Dave': 789}"
      ]
     },
     "execution_count": 5,
     "metadata": {},
     "output_type": "execute_result"
    }
   ],
   "source": [
    "del d['test']\n",
    "d"
   ]
  },
  {
   "cell_type": "code",
   "execution_count": 6,
   "id": "d7654c52",
   "metadata": {},
   "outputs": [
    {
     "name": "stdout",
     "output_type": "stream",
     "text": [
      "Key tom value 123\n",
      "Key Sam value 1001\n",
      "Key Dave value 789\n"
     ]
    }
   ],
   "source": [
    "for key in d:\n",
    "    print(\"Key\",key,\"value\",d[key])\n",
    "    "
   ]
  },
  {
   "cell_type": "code",
   "execution_count": 13,
   "id": "d7d27243",
   "metadata": {},
   "outputs": [
    {
     "data": {
      "text/plain": [
       "{'tom': 123, 'Sam': 1001, 'Dave': 789}"
      ]
     },
     "execution_count": 13,
     "metadata": {},
     "output_type": "execute_result"
    }
   ],
   "source": []
  },
  {
   "cell_type": "code",
   "execution_count": 9,
   "id": "b767ee41",
   "metadata": {},
   "outputs": [
    {
     "name": "stdout",
     "output_type": "stream",
     "text": [
      "tom 123\n",
      "Sam 1001\n",
      "Dave 789\n"
     ]
    }
   ],
   "source": [
    "for k,v in d.items():\n",
    "    print(k,v)"
   ]
  },
  {
   "cell_type": "code",
   "execution_count": 170,
   "id": "40605ece",
   "metadata": {},
   "outputs": [
    {
     "data": {
      "text/plain": [
       "True"
      ]
     },
     "execution_count": 170,
     "metadata": {},
     "output_type": "execute_result"
    }
   ],
   "source": [
    "\"tom\" in d"
   ]
  },
  {
   "cell_type": "code",
   "execution_count": 172,
   "id": "dda4bf8d",
   "metadata": {},
   "outputs": [
    {
     "data": {
      "text/plain": [
       "{}"
      ]
     },
     "execution_count": 172,
     "metadata": {},
     "output_type": "execute_result"
    }
   ],
   "source": [
    "d.clear()\n",
    "d"
   ]
  },
  {
   "cell_type": "markdown",
   "id": "b0eee9b5",
   "metadata": {},
   "source": [
    "# Tuples"
   ]
  },
  {
   "cell_type": "raw",
   "id": "136327c6",
   "metadata": {},
   "source": [
    "Note: Tuples are values that are grouped together\n",
    "    \n",
    "    Difference between List and Tuples\n",
    "    \n",
    "    List is Homogenous because all values has similar meaning\n",
    "    Tuples is Heterogenous because all values have different meaning"
   ]
  },
  {
   "cell_type": "code",
   "execution_count": 173,
   "id": "7383aeb6",
   "metadata": {},
   "outputs": [
    {
     "data": {
      "text/plain": [
       "(1, 2, 3)"
      ]
     },
     "execution_count": 173,
     "metadata": {},
     "output_type": "execute_result"
    }
   ],
   "source": [
    "t = (1,2,3)\n",
    "t"
   ]
  },
  {
   "cell_type": "code",
   "execution_count": 174,
   "id": "827468e0",
   "metadata": {},
   "outputs": [
    {
     "data": {
      "text/plain": [
       "1"
      ]
     },
     "execution_count": 174,
     "metadata": {},
     "output_type": "execute_result"
    }
   ],
   "source": [
    "t[0]"
   ]
  },
  {
   "cell_type": "code",
   "execution_count": 175,
   "id": "c94ffcb1",
   "metadata": {},
   "outputs": [
    {
     "data": {
      "text/plain": [
       "2"
      ]
     },
     "execution_count": 175,
     "metadata": {},
     "output_type": "execute_result"
    }
   ],
   "source": [
    "t[1]"
   ]
  },
  {
   "cell_type": "markdown",
   "id": "c4857663",
   "metadata": {},
   "source": [
    "## Exercise : Dictionary and Tuples"
   ]
  },
  {
   "cell_type": "code",
   "execution_count": 28,
   "id": "356a21d7",
   "metadata": {
    "scrolled": true
   },
   "outputs": [
    {
     "name": "stdout",
     "output_type": "stream",
     "text": [
      "Enter your Choice: \n",
      " 1. Print\n",
      " 2. Add \n",
      " 3. Remove \n",
      " 4. query \n",
      "1\n",
      "China ==> 143\n",
      "India ==> 136\n",
      "USA ==> 32\n",
      "Pakistan ==> 21\n",
      "Enter your Choice: \n",
      " 1. Print\n",
      " 2. Add \n",
      " 3. Remove \n",
      " 4. query \n",
      "2\n",
      "which country to add : Thailand\n",
      "Enter population : 450\n",
      "{'China': 143, 'India': 136, 'USA': 32, 'Pakistan': 21, 'Thailand': 450}\n",
      "Enter your Choice: \n",
      " 1. Print\n",
      " 2. Add \n",
      " 3. Remove \n",
      " 4. query \n",
      "1\n",
      "China ==> 143\n",
      "India ==> 136\n",
      "USA ==> 32\n",
      "Pakistan ==> 21\n",
      "Thailand ==> 450\n",
      "Enter your Choice: \n",
      " 1. Print\n",
      " 2. Add \n",
      " 3. Remove \n",
      " 4. query \n",
      "3\n",
      "Which Country to remove :Pakistan\n",
      "Updated Dictionary : dict_keys(['China', 'India', 'USA', 'Thailand']) ==> dict_values([143, 136, 32, 450])\n",
      "Enter your Choice: \n",
      " 1. Print\n",
      " 2. Add \n",
      " 3. Remove \n",
      " 4. query \n",
      "4\n",
      "On which country you want to query :India\n",
      "Population of India is 136 \n",
      "Enter your Choice: \n",
      " 1. Print\n",
      " 2. Add \n",
      " 3. Remove \n",
      " 4. query \n",
      "\n",
      "Exit\n"
     ]
    }
   ],
   "source": [
    "\"\"\"\n",
    "We have following information on countries and their population (population is in crores),\n",
    "Country \tPopulation\n",
    "China \t143\n",
    "India \t136\n",
    "USA \t32\n",
    "Pakistan \t21\n",
    "\n",
    "Using above create a dictionary of countries and its population\n",
    "Write a program that asks user for three type of inputs,\n",
    "print: if user enter print then it should print all countries with their population in this format,\n",
    "\n",
    "china==>143\n",
    "india==>136\n",
    "usa==>32\n",
    "pakistan==>21\n",
    "\n",
    "add: if user input add then it should further ask for a country name to add. \n",
    "If country already exist in our dataset then it should print that it exist and do nothing. \n",
    "If it doesn't then it asks for population and add that new country/population in our dictionary and print it\n",
    "\n",
    "remove: when user inputs remove it should ask for a country to remove. \n",
    "If country exist in our dictionary then remove it and print new dictionary using format shown above in (a). \n",
    "Else print that country doesn't exist!\n",
    "\n",
    "query: on this again ask user for which country he or she wants to query. \n",
    "When user inputs that country it will print population of that country.\n",
    "\n",
    "\n",
    "\n",
    "\"\"\"\n",
    "d1 = {\"China\":143,\"India\":136,\"USA\":32,\"Pakistan\":21}\n",
    "while True:\n",
    "    user = input(\"Enter your Choice: \\n 1. Print\\n 2. Add \\n 3. Remove \\n 4. query \\n\")\n",
    "    if not user:\n",
    "        print(\"Exit\")\n",
    "        break\n",
    "    else:\n",
    "        for k in list(d1):             #k,v in d1.items():\n",
    "            if user == '1':\n",
    "                print(k,\"==>\",d1[k])\n",
    "\n",
    "            elif user == '2':\n",
    "                u2 = input(\"which country to add : \")\n",
    "                if u2 in d1:\n",
    "                    print(\"The country exists in the dictionary\")\n",
    "                    break\n",
    "                else:\n",
    "                    u3 = int(input(\"Enter population : \"))\n",
    "                    d1.update({u2:u3})\n",
    "                    print(d1)\n",
    "                    break\n",
    "            elif user == '3':\n",
    "                u4 = input(\"Which Country to remove :\")\n",
    "                if u4 in d1:\n",
    "                    del d1[u4]\n",
    "                    print(\"Updated Dictionary :\",d1.keys(),\"==>\",d1.values())      #,k,\"==>\",d1[k])\n",
    "                    break\n",
    "                else:\n",
    "                    print(\"The country doesn't exist in the dictionary\")\n",
    "                    break\n",
    "            elif user == \"4\":\n",
    "                u5 = input(\"On which country you want to query :\")\n",
    "                print(f\"Population of {u5} is {d1[u5]} \")\n",
    "                break\n",
    "            else:\n",
    "                break\n",
    "\n",
    "            \n",
    "            \n",
    "\n",
    "\n",
    "\n",
    "\n"
   ]
  },
  {
   "cell_type": "code",
   "execution_count": 36,
   "id": "69f5db25",
   "metadata": {},
   "outputs": [
    {
     "name": "stdout",
     "output_type": "stream",
     "text": [
      "Enter Operation to perform : \n",
      " 1. Print \n",
      " 2. Add 1\n",
      "Info ==> [600, 630, 620] ==> avg: 616.67\n",
      "Ril ==> [1430, 1490, 1567] ==> avg: 1495.67\n",
      "Mtl ==> [234, 180, 160] ==> avg: 191.33\n",
      "Enter Operation to perform : \n",
      " 1. Print \n",
      " 2. Add 2\n",
      "Stock ticker: Info\n",
      "Enter price: 300\n",
      "{'Info': [600, 630, 620, 300], 'Ril': [1430, 1490, 1567], 'Mtl': [234, 180, 160]}\n",
      "Enter Operation to perform : \n",
      " 1. Print \n",
      " 2. Add 2\n",
      "Stock ticker: blah\n",
      "Enter price: 200\n",
      "{'Info': [600, 630, 620, 300], 'Ril': [1430, 1490, 1567], 'Mtl': [234, 180, 160], 'blah': [200]}\n",
      "Enter Operation to perform : \n",
      " 1. Print \n",
      " 2. Add \n",
      "Exit\n"
     ]
    }
   ],
   "source": [
    "\"\"\"\n",
    "You are given following list of stocks and their prices in last 3 days,\n",
    "Stock \tPrices\n",
    "info \t[600,630,620]\n",
    "ril \t[1430,1490,1567]\n",
    "mtl \t[234,180,160]\n",
    "Write a program that asks user for operation. Value of operations could be,\n",
    "        print: When user enters print it should print following,\n",
    "\n",
    "        info ==> [600, 630, 620] ==> avg:  616.67\n",
    "        ril ==> [1430, 1490, 1567] ==> avg:  1495.67\n",
    "        mtl ==> [234, 180, 160] ==> avg:  191.33\n",
    "\n",
    "add: When user enters 'add', it asks for stock ticker and price. \n",
    "If stock already exist in your list (like info, ril etc) then it will append the price to the list. \n",
    "Otherwise it will create new entry in your dictionary. \n",
    "For example entering 'tata' and 560 will add tata ==> [560] to the dictionary of stocks.\n",
    "\n",
    "\"\"\"\n",
    "d2 = {\"Info\":[600,630,620],\n",
    "     \"Ril\":[1430,1490,1567],\n",
    "     \"Mtl\":[234,180,160]}\n",
    "while True:\n",
    "    u1 = input(\"Enter Operation to perform : \\n 1. Print \\n 2. Add \")\n",
    "    if not u1:\n",
    "        print(\"Exit\")\n",
    "        break\n",
    "    else:    \n",
    "        for k in list (d2):\n",
    "            if u1 == \"1\":\n",
    "                avg = sum(d2[k])/len(d2[k])\n",
    "                print(k,\"==>\",d2[k],\"==> avg:\",round(avg,2))\n",
    "            elif u1 == \"2\":\n",
    "                u2 = input(\"Stock ticker: \")\n",
    "                u3 = int(input(\"Enter price: \"))\n",
    "                if u2 in d2:             \n",
    "                    d2[u2].append(u3)\n",
    "                    print(d2)\n",
    "                    break\n",
    "                else:\n",
    "                    d2.update({u2:[u3]})\n",
    "                    print(d2)\n",
    "                    break\n",
    "\n",
    "            \n",
    "\n",
    "\n",
    "\n"
   ]
  },
  {
   "cell_type": "code",
   "execution_count": 47,
   "id": "f82527b3",
   "metadata": {},
   "outputs": [
    {
     "name": "stdout",
     "output_type": "stream",
     "text": [
      "Enter Radius of circle:3\n",
      "Area of Circle :  28.27 \n",
      "Circumference of Circle:  18.85 \n",
      "Diameter of Circle:  6\n"
     ]
    }
   ],
   "source": [
    "\"\"\"\n",
    "Write circle_calc() function that takes radius of a circle as an input from user and then it calculates and returns area, \n",
    "circumference and diameter. You should get these values in your main program by calling circle_calc function and then print them\n",
    "\n",
    "\"\"\"\n",
    "import math\n",
    "def circle_calc():\n",
    "    r = int(input(\"Enter Radius of circle:\"))\n",
    "    circumference = 2*math.pi*r\n",
    "    diameter = 2*r\n",
    "    area = math.pi*(r**2)\n",
    "    print(\"Area of Circle : \",round(area,2),\"\\nCircumference of Circle: \",round(circumference,2),\"\\nDiameter of Circle: \",diameter)\n",
    "circle_calc()"
   ]
  },
  {
   "cell_type": "code",
   "execution_count": 48,
   "id": "4652a0f9",
   "metadata": {},
   "outputs": [
    {
     "name": "stdout",
     "output_type": "stream",
     "text": [
      "Enter a radius:3\n",
      "area 28.274333882308138, circumference 18.84955592153876, diameter 6.0\n"
     ]
    }
   ],
   "source": [
    "#Dhaval's Code\n",
    "\n",
    "import math\n",
    "\n",
    "def circle_calc(radius):\n",
    "    area=math.pi*(radius**2)\n",
    "    circumference=2*math.pi*radius\n",
    "    diameter=2*radius\n",
    "    return area, circumference,diameter\n",
    "\n",
    "if __name__==\"__main__\":\n",
    "    r=input(\"Enter a radius:\")\n",
    "    r=float(r)\n",
    "    area, c, d = circle_calc(r)\n",
    "    print(f\"area {area}, circumference {c}, diameter {d}\")"
   ]
  },
  {
   "cell_type": "markdown",
   "id": "549285d5",
   "metadata": {},
   "source": [
    "# Functions"
   ]
  },
  {
   "cell_type": "code",
   "execution_count": 127,
   "id": "575d0fc1",
   "metadata": {},
   "outputs": [
    {
     "name": "stdout",
     "output_type": "stream",
     "text": [
      "1000\n",
      "2600\n"
     ]
    }
   ],
   "source": [
    "lst1 = [100,200,300,400]\n",
    "lst2 = [500,600,700,800]\n",
    "\n",
    "def cal_lst(lst):\n",
    "    total = 0\n",
    "    for i in lst:\n",
    "        total = total+i\n",
    "    return total\n",
    "\n",
    "print(cal_lst(lst1))\n",
    "print(cal_lst(lst2))"
   ]
  },
  {
   "cell_type": "code",
   "execution_count": 128,
   "id": "8ca1b4e2",
   "metadata": {},
   "outputs": [
    {
     "name": "stdout",
     "output_type": "stream",
     "text": [
      "3\n"
     ]
    }
   ],
   "source": [
    "#Sum\n",
    "def add(a,b):\n",
    "    c = a+b\n",
    "    return c\n",
    "print(add(1,2)) # Positional Arguments"
   ]
  },
  {
   "cell_type": "raw",
   "id": "29afb86f",
   "metadata": {},
   "source": [
    "Note : Two types of Arguments in Functions:\n",
    "1. Positional Arguments\n",
    "2. Named Arguments"
   ]
  },
  {
   "cell_type": "code",
   "execution_count": 129,
   "id": "9e554b0a",
   "metadata": {},
   "outputs": [
    {
     "name": "stdout",
     "output_type": "stream",
     "text": [
      "3\n"
     ]
    }
   ],
   "source": [
    "def add(a,b):\n",
    "    c = a+b\n",
    "    return c\n",
    "print(add(b = 1,a = 2)) #Named Arguments example"
   ]
  },
  {
   "cell_type": "code",
   "execution_count": 132,
   "id": "0f94fc46",
   "metadata": {},
   "outputs": [
    {
     "name": "stdout",
     "output_type": "stream",
     "text": [
      "6\n"
     ]
    }
   ],
   "source": [
    "def add(a,b = 5): #Default Argument Example\n",
    "    \"\"\"\n",
    "    This Function take 2 args and return the sum of 2 number\n",
    "    this is documentation string example\n",
    "    \"\"\"\n",
    "    c = a+b\n",
    "    return c\n",
    "print(add(1)) "
   ]
  },
  {
   "cell_type": "markdown",
   "id": "48be3d97",
   "metadata": {},
   "source": [
    "## Excercise : Functions"
   ]
  },
  {
   "cell_type": "code",
   "execution_count": 137,
   "id": "4beb294f",
   "metadata": {},
   "outputs": [
    {
     "name": "stdout",
     "output_type": "stream",
     "text": [
      "Enter Base :20\n",
      "Enter Height : 12\n"
     ]
    },
    {
     "data": {
      "text/plain": [
       "('Area of Triangle : ', 120.0)"
      ]
     },
     "execution_count": 137,
     "metadata": {},
     "output_type": "execute_result"
    }
   ],
   "source": [
    "#Write a function called calculate_area that takes base and height as an input and returns and area of a triangle. Equation of an area of a triangle is,\n",
    "#area = (1/2)*base*height\n",
    "\n",
    "def calculate_area():\n",
    "    base = input(\"Enter Base :\")\n",
    "    height = input(\"Enter Height : \")\n",
    "    Area = (1/2)*int(base)*int(height)\n",
    "    return \"Area of Triangle : \",Area\n",
    "\n",
    "calculate_area()"
   ]
  },
  {
   "cell_type": "code",
   "execution_count": 151,
   "id": "288d2faf",
   "metadata": {},
   "outputs": [
    {
     "name": "stdout",
     "output_type": "stream",
     "text": [
      "Enter Shape 3 or 4:\n",
      "Enter correct shape\n"
     ]
    }
   ],
   "source": [
    "#Modify above function to take third parameter shape type. It can be either \"triangle\" or \"rectangle\". Based on shape type it will calculate area. Equation of rectangle's area is,\n",
    "#rectangle area=length*width\n",
    "\n",
    "def calculate_area(shape = 3):\n",
    "    shape = input(\"Enter Shape 3 or 4:\")\n",
    "    if shape == \"3\": \n",
    "        base = input(\"Enter Base :\")\n",
    "        height = input(\"Enter Height : \")\n",
    "        Area = (1/2)*int(base)*int(height)\n",
    "        return \"Area of Triangle : \",Area\n",
    "    elif shape == \"4\":\n",
    "        length = input(\"Enter Length :\")\n",
    "        width = input(\"Enter width : \")\n",
    "        Area = int(length)*int(width)\n",
    "        return \"Area of Rectangle : \",Area\n",
    "    else:\n",
    "        print(\"Enter correct shape\")\n",
    "\n",
    "calculate_area()"
   ]
  },
  {
   "cell_type": "code",
   "execution_count": 147,
   "id": "714cfb68",
   "metadata": {},
   "outputs": [],
   "source": [
    "#Write a function called print_pattern that takes integer number as an argument and prints following pattern if input number is 3,\n",
    "def print_pattern():\n",
    "    pattern = int(input(\"Enter Number :\"))\n",
    "    for i in range(pattern):\n",
    "        s = ''\n",
    "        for j in range(i+1):\n",
    "            s = s+ \"*\"\n",
    "        print(s)"
   ]
  },
  {
   "cell_type": "code",
   "execution_count": 148,
   "id": "745d2c89",
   "metadata": {},
   "outputs": [
    {
     "name": "stdout",
     "output_type": "stream",
     "text": [
      "Enter Number :4\n",
      "*\n",
      "**\n",
      "***\n",
      "****\n"
     ]
    }
   ],
   "source": [
    "print_pattern()"
   ]
  },
  {
   "cell_type": "code",
   "execution_count": null,
   "id": "02f309d6",
   "metadata": {},
   "outputs": [],
   "source": []
  }
 ],
 "metadata": {
  "kernelspec": {
   "display_name": "Python 3 (ipykernel)",
   "language": "python",
   "name": "python3"
  },
  "language_info": {
   "codemirror_mode": {
    "name": "ipython",
    "version": 3
   },
   "file_extension": ".py",
   "mimetype": "text/x-python",
   "name": "python",
   "nbconvert_exporter": "python",
   "pygments_lexer": "ipython3",
   "version": "3.9.12"
  }
 },
 "nbformat": 4,
 "nbformat_minor": 5
}
